{
  "nbformat": 4,
  "nbformat_minor": 0,
  "metadata": {
    "colab": {
      "provenance": []
    },
    "kernelspec": {
      "name": "python3",
      "display_name": "Python 3"
    },
    "language_info": {
      "name": "python"
    }
  },
  "cells": [
    {
      "cell_type": "markdown",
      "metadata": {
        "id": "view-in-github"
      },
      "source": [
        "<a href=\"https://colab.research.google.com/github/cynthiatcelorio/ML_Clustering/blob/main/dani.ipynb\" target=\"_parent\"><img src=\"https://colab.research.google.com/assets/colab-badge.svg\" alt=\"Open In Colab\"/></a>"
      ]
    },
    {
      "cell_type": "code",
      "source": [
        "%pip install clustimage"
      ],
      "metadata": {
        "colab": {
          "base_uri": "https://localhost:8080/"
        },
        "id": "Sxi3tPWJcc9N",
        "outputId": "8cb62c4e-eb55-4cf5-cf4d-762ce8dea484"
      },
      "execution_count": 1,
      "outputs": [
        {
          "output_type": "stream",
          "name": "stdout",
          "text": [
            "Looking in indexes: https://pypi.org/simple, https://us-python.pkg.dev/colab-wheels/public/simple/\n",
            "Collecting clustimage\n",
            "  Downloading clustimage-1.5.11-py3-none-any.whl (37 kB)\n",
            "Collecting pca\n",
            "  Downloading pca-1.8.5-py3-none-any.whl (27 kB)\n",
            "Collecting distfit\n",
            "  Downloading distfit-1.4.5-py3-none-any.whl (22 kB)\n",
            "Requirement already satisfied: pandas in /usr/local/lib/python3.8/dist-packages (from clustimage) (1.3.5)\n",
            "Requirement already satisfied: numpy in /usr/local/lib/python3.8/dist-packages (from clustimage) (1.21.6)\n",
            "Requirement already satisfied: matplotlib in /usr/local/lib/python3.8/dist-packages (from clustimage) (3.2.2)\n",
            "Collecting clusteval\n",
            "  Downloading clusteval-2.1.4-py3-none-any.whl (32 kB)\n",
            "Requirement already satisfied: requests in /usr/local/lib/python3.8/dist-packages (from clustimage) (2.23.0)\n",
            "Collecting umap-learn\n",
            "  Downloading umap-learn-0.5.3.tar.gz (88 kB)\n",
            "\u001b[K     |████████████████████████████████| 88 kB 3.1 MB/s \n",
            "\u001b[?25hCollecting pypickle\n",
            "  Downloading pypickle-1.1.0-py3-none-any.whl (5.1 kB)\n",
            "Requirement already satisfied: scikit-learn in /usr/local/lib/python3.8/dist-packages (from clustimage) (1.0.2)\n",
            "Collecting imagehash\n",
            "  Downloading ImageHash-4.3.1-py2.py3-none-any.whl (296 kB)\n",
            "\u001b[K     |████████████████████████████████| 296 kB 12.8 MB/s \n",
            "\u001b[?25hCollecting scatterd>=1.1.2\n",
            "  Downloading scatterd-1.2.1-py3-none-any.whl (8.8 kB)\n",
            "Requirement already satisfied: opencv-python in /usr/local/lib/python3.8/dist-packages (from clustimage) (4.6.0.66)\n",
            "Requirement already satisfied: tqdm in /usr/local/lib/python3.8/dist-packages (from clustimage) (4.64.1)\n",
            "Requirement already satisfied: scipy in /usr/local/lib/python3.8/dist-packages (from clustimage) (1.7.3)\n",
            "Collecting ismember\n",
            "  Downloading ismember-1.0.2-py3-none-any.whl (7.5 kB)\n",
            "Collecting colourmap\n",
            "  Downloading colourmap-1.1.10-py3-none-any.whl (7.4 kB)\n",
            "Requirement already satisfied: scikit-image in /usr/local/lib/python3.8/dist-packages (from clustimage) (0.18.3)\n",
            "Requirement already satisfied: seaborn in /usr/local/lib/python3.8/dist-packages (from scatterd>=1.1.2->clustimage) (0.11.2)\n",
            "Collecting wget\n",
            "  Downloading wget-3.2.zip (10 kB)\n",
            "Requirement already satisfied: statsmodels in /usr/local/lib/python3.8/dist-packages (from distfit->clustimage) (0.12.2)\n",
            "Requirement already satisfied: pillow in /usr/local/lib/python3.8/dist-packages (from imagehash->clustimage) (7.1.2)\n",
            "Requirement already satisfied: PyWavelets in /usr/local/lib/python3.8/dist-packages (from imagehash->clustimage) (1.4.1)\n",
            "Requirement already satisfied: cycler>=0.10 in /usr/local/lib/python3.8/dist-packages (from matplotlib->clustimage) (0.11.0)\n",
            "Requirement already satisfied: python-dateutil>=2.1 in /usr/local/lib/python3.8/dist-packages (from matplotlib->clustimage) (2.8.2)\n",
            "Requirement already satisfied: kiwisolver>=1.0.1 in /usr/local/lib/python3.8/dist-packages (from matplotlib->clustimage) (1.4.4)\n",
            "Requirement already satisfied: pyparsing!=2.0.4,!=2.1.2,!=2.1.6,>=2.0.1 in /usr/local/lib/python3.8/dist-packages (from matplotlib->clustimage) (3.0.9)\n",
            "Requirement already satisfied: six>=1.5 in /usr/local/lib/python3.8/dist-packages (from python-dateutil>=2.1->matplotlib->clustimage) (1.15.0)\n",
            "Requirement already satisfied: pytz>=2017.3 in /usr/local/lib/python3.8/dist-packages (from pandas->clustimage) (2022.6)\n",
            "Collecting adjustText\n",
            "  Downloading adjustText-0.7.3.tar.gz (7.5 kB)\n",
            "Requirement already satisfied: idna<3,>=2.5 in /usr/local/lib/python3.8/dist-packages (from requests->clustimage) (2.10)\n",
            "Requirement already satisfied: certifi>=2017.4.17 in /usr/local/lib/python3.8/dist-packages (from requests->clustimage) (2022.9.24)\n",
            "Requirement already satisfied: chardet<4,>=3.0.2 in /usr/local/lib/python3.8/dist-packages (from requests->clustimage) (3.0.4)\n",
            "Requirement already satisfied: urllib3!=1.25.0,!=1.25.1,<1.26,>=1.21.1 in /usr/local/lib/python3.8/dist-packages (from requests->clustimage) (1.24.3)\n",
            "Requirement already satisfied: imageio>=2.3.0 in /usr/local/lib/python3.8/dist-packages (from scikit-image->clustimage) (2.9.0)\n",
            "Requirement already satisfied: networkx>=2.0 in /usr/local/lib/python3.8/dist-packages (from scikit-image->clustimage) (2.8.8)\n",
            "Requirement already satisfied: tifffile>=2019.7.26 in /usr/local/lib/python3.8/dist-packages (from scikit-image->clustimage) (2022.10.10)\n",
            "Requirement already satisfied: joblib>=0.11 in /usr/local/lib/python3.8/dist-packages (from scikit-learn->clustimage) (1.2.0)\n",
            "Requirement already satisfied: threadpoolctl>=2.0.0 in /usr/local/lib/python3.8/dist-packages (from scikit-learn->clustimage) (3.1.0)\n",
            "Requirement already satisfied: patsy>=0.5 in /usr/local/lib/python3.8/dist-packages (from statsmodels->distfit->clustimage) (0.5.3)\n",
            "Requirement already satisfied: numba>=0.49 in /usr/local/lib/python3.8/dist-packages (from umap-learn->clustimage) (0.56.4)\n",
            "Collecting pynndescent>=0.5\n",
            "  Downloading pynndescent-0.5.8.tar.gz (1.1 MB)\n",
            "\u001b[K     |████████████████████████████████| 1.1 MB 15.0 MB/s \n",
            "\u001b[?25hRequirement already satisfied: llvmlite<0.40,>=0.39.0dev0 in /usr/local/lib/python3.8/dist-packages (from numba>=0.49->umap-learn->clustimage) (0.39.1)\n",
            "Requirement already satisfied: setuptools in /usr/local/lib/python3.8/dist-packages (from numba>=0.49->umap-learn->clustimage) (57.4.0)\n",
            "Requirement already satisfied: importlib-metadata in /usr/local/lib/python3.8/dist-packages (from numba>=0.49->umap-learn->clustimage) (4.13.0)\n",
            "Requirement already satisfied: zipp>=0.5 in /usr/local/lib/python3.8/dist-packages (from importlib-metadata->numba>=0.49->umap-learn->clustimage) (3.11.0)\n",
            "Building wheels for collected packages: adjustText, umap-learn, pynndescent, wget\n",
            "  Building wheel for adjustText (setup.py) ... \u001b[?25l\u001b[?25hdone\n",
            "  Created wheel for adjustText: filename=adjustText-0.7.3-py3-none-any.whl size=7096 sha256=a19b714181fb4aaf1b2745d518b3ec19503475aac5ab35aad46a6eff6fe2a878\n",
            "  Stored in directory: /root/.cache/pip/wheels/06/b2/e0/b239bd2c0ff89b98c4f0c86a63e7059f38a8dfaf6df2641c63\n",
            "  Building wheel for umap-learn (setup.py) ... \u001b[?25l\u001b[?25hdone\n",
            "  Created wheel for umap-learn: filename=umap_learn-0.5.3-py3-none-any.whl size=82829 sha256=96a5404031a0678511f2e9beaec1da7a8e5dbf0030e17721439e05d5810aa399\n",
            "  Stored in directory: /root/.cache/pip/wheels/a9/3a/67/06a8950e053725912e6a8c42c4a3a241410f6487b8402542ea\n",
            "  Building wheel for pynndescent (setup.py) ... \u001b[?25l\u001b[?25hdone\n",
            "  Created wheel for pynndescent: filename=pynndescent-0.5.8-py3-none-any.whl size=55513 sha256=37cb18972c717897c7c1717d58702af0edece1bc27b99e09a9c6ab61909b9db0\n",
            "  Stored in directory: /root/.cache/pip/wheels/1c/63/3a/29954bca1a27ba100ed8c27973a78cb71b43dc67aed62e80c3\n",
            "  Building wheel for wget (setup.py) ... \u001b[?25l\u001b[?25hdone\n",
            "  Created wheel for wget: filename=wget-3.2-py3-none-any.whl size=9674 sha256=58a458263ced1b7c3b9f001a15cc87a44ba36789f46880370e8dfe05441870c1\n",
            "  Stored in directory: /root/.cache/pip/wheels/bd/a8/c3/3cf2c14a1837a4e04bd98631724e81f33f462d86a1d895fae0\n",
            "Successfully built adjustText umap-learn pynndescent wget\n",
            "Installing collected packages: colourmap, wget, scatterd, pypickle, pynndescent, adjustText, umap-learn, pca, ismember, imagehash, distfit, clusteval, clustimage\n",
            "Successfully installed adjustText-0.7.3 clusteval-2.1.4 clustimage-1.5.11 colourmap-1.1.10 distfit-1.4.5 imagehash-4.3.1 ismember-1.0.2 pca-1.8.5 pynndescent-0.5.8 pypickle-1.1.0 scatterd-1.2.1 umap-learn-0.5.3 wget-3.2\n"
          ]
        }
      ]
    },
    {
      "cell_type": "code",
      "execution_count": 2,
      "metadata": {
        "id": "r-T-IjRwxC2t"
      },
      "outputs": [],
      "source": [
        "# librerias\n",
        "from glob import glob\n",
        "import matplotlib.pyplot as plt\n",
        "from skimage import color\n",
        "from skimage.color import rgb2gray\n",
        "from skimage.io import imshow, imread\n",
        "from clustimage import Clustimage\n",
        "\n",
        "import cv2\n"
      ]
    },
    {
      "cell_type": "code",
      "source": [
        "!git clone \"https://github.com/cynthiatcelorio/ML_Clustering_Data.git\"\n",
        "\n",
        "ruta_train = \"/content/ML_Clustering_Data/train\"\n",
        "ruta_test = \"/content/ML_Clustering_Data/test\""
      ],
      "metadata": {
        "colab": {
          "base_uri": "https://localhost:8080/"
        },
        "id": "IApPmOxexT3x",
        "outputId": "74366aa8-1fa2-473a-e43a-aabe1d4221d3"
      },
      "execution_count": 10,
      "outputs": [
        {
          "output_type": "stream",
          "name": "stdout",
          "text": [
            "fatal: destination path 'ML_Clustering_Data' already exists and is not an empty directory.\n"
          ]
        }
      ]
    },
    {
      "cell_type": "code",
      "source": [
        "train_images = glob('/content/ML_Clustering_Data/train/*')"
      ],
      "metadata": {
        "id": "ougTFsdAxUQt"
      },
      "execution_count": 88,
      "outputs": []
    },
    {
      "cell_type": "code",
      "source": [
        "len(train_images)"
      ],
      "metadata": {
        "colab": {
          "base_uri": "https://localhost:8080/"
        },
        "id": "_CFrSr1Fx8-J",
        "outputId": "36c6b446-9533-4a44-b8b4-438961250f57"
      },
      "execution_count": 89,
      "outputs": [
        {
          "output_type": "execute_result",
          "data": {
            "text/plain": [
              "7889"
            ]
          },
          "metadata": {},
          "execution_count": 89
        }
      ]
    },
    {
      "cell_type": "markdown",
      "source": [
        "### Preprocesamiento de las imágenes"
      ],
      "metadata": {
        "id": "Ggrbroc51Y-Y"
      }
    },
    {
      "cell_type": "markdown",
      "source": [
        "Antes de extraer características de las imágenes, tenemos que llevar a cabo un preprocesamiento para poder comparar las imágenes en lo referente a color y valor."
      ],
      "metadata": {
        "id": "yjOSDw4s1d61"
      }
    },
    {
      "cell_type": "code",
      "source": [
        "import cv2\n",
        "\n",
        "# Cargar dataset\n",
        "images_entrenamiento = []\n",
        "\n",
        "for i in range(0, len(train_images)):\n",
        "    img = cv2.imread(train_images[i])\n",
        "    images_entrenamiento.append(img)"
      ],
      "metadata": {
        "id": "2ggPV3Hh2eqc"
      },
      "execution_count": 97,
      "outputs": []
    },
    {
      "cell_type": "markdown",
      "source": [
        "La librería Clustimage cuenta con una función *imread* que premite escalar las imagenes a una dimensión concreta y pasarlas a escala de grises asignando al parámetro *colorscale* el valor 0."
      ],
      "metadata": {
        "id": "Qc123bysuQnY"
      }
    },
    {
      "cell_type": "code",
      "source": [
        "# Inicializar\n",
        "'''cl = Clustimage()\n",
        "\n",
        "# Cargar dataset\n",
        "images_entrenamiento = []\n",
        "\n",
        "for i in range(0, len(train_images)):\n",
        "    img = cl.imread(train_images[i], dim=(128, 128), colorscale=0, flatten=True)\n",
        "    images_entrenamiento.append(img)\n",
        "\n",
        "\"\"\"\n",
        "img = cl.imread(train_images[1980], dim=(128, 128), colorscale=1, flatten=True)\n",
        "\n",
        "print(img)\n",
        "\n",
        "\n",
        "# proximo objetivo: plottear como 9 a la vez, mirar por algun lado\n",
        "plt.figure()\n",
        "plt.imshow(img.reshape(128,128,3))\n",
        "plt.axis('off')\"\"\""
      ],
      "metadata": {
        "colab": {
          "base_uri": "https://localhost:8080/",
          "height": 122
        },
        "id": "NYIt3rU32lH5",
        "outputId": "fc99c42e-c5cd-419a-d24f-b9970a93e250"
      },
      "execution_count": 91,
      "outputs": [
        {
          "output_type": "stream",
          "name": "stderr",
          "text": [
            "[clustimage] >INFO> filepath is set to [/tmp/clustimage]\n",
            "[clustimage] >INFO> filepath is set to [/tmp/clustimage]\n",
            "[clustimage] >INFO> filepath is set to [/tmp/clustimage]\n"
          ]
        },
        {
          "output_type": "execute_result",
          "data": {
            "text/plain": [
              "\"\\nimg = cl.imread(train_images[1980], dim=(128, 128), colorscale=1, flatten=True)\\n\\nprint(img)\\n\\n\\n# proximo objetivo: plottear como 9 a la vez, mirar por algun lado\\nplt.figure()\\nplt.imshow(img.reshape(128,128,3))\\nplt.axis('off')\""
            ],
            "application/vnd.google.colaboratory.intrinsic+json": {
              "type": "string"
            }
          },
          "metadata": {},
          "execution_count": 91
        }
      ]
    },
    {
      "cell_type": "code",
      "source": [
        "#IDEA: PASAR TODO A BLANCO Y NEGRO Y PASAR A BLANCO (255) LO QUE ESTE POR ENCIMA DE YOQUESE 102\n",
        "#ejemplo breve:\n",
        "'''\n",
        "print(len(images_entrenamiento))\n",
        "#5264\n",
        "\n",
        "# prueba para cualquier imagen pero funciona\n",
        "img = images_entrenamiento[555]\n",
        "\n",
        "plt.figure()\n",
        "plt.imshow(img.reshape(128, 128))\n",
        "plt.axis('off')\n",
        "\n",
        "'''"
      ],
      "metadata": {
        "id": "P779g_gv4opP",
        "colab": {
          "base_uri": "https://localhost:8080/",
          "height": 252
        },
        "outputId": "caef4eaf-1aa0-4f99-9fc2-e82a9abe1d7d"
      },
      "execution_count": 98,
      "outputs": [
        {
          "output_type": "stream",
          "name": "stdout",
          "text": [
            "7889\n"
          ]
        },
        {
          "output_type": "error",
          "ename": "ValueError",
          "evalue": "ignored",
          "traceback": [
            "\u001b[0;31m---------------------------------------------------------------------------\u001b[0m",
            "\u001b[0;31mValueError\u001b[0m                                Traceback (most recent call last)",
            "\u001b[0;32m<ipython-input-98-bbd51f4e8d80>\u001b[0m in \u001b[0;36m<module>\u001b[0;34m\u001b[0m\n\u001b[1;32m      8\u001b[0m \u001b[0;34m\u001b[0m\u001b[0m\n\u001b[1;32m      9\u001b[0m \u001b[0mplt\u001b[0m\u001b[0;34m.\u001b[0m\u001b[0mfigure\u001b[0m\u001b[0;34m(\u001b[0m\u001b[0;34m)\u001b[0m\u001b[0;34m\u001b[0m\u001b[0;34m\u001b[0m\u001b[0m\n\u001b[0;32m---> 10\u001b[0;31m \u001b[0mplt\u001b[0m\u001b[0;34m.\u001b[0m\u001b[0mimshow\u001b[0m\u001b[0;34m(\u001b[0m\u001b[0mimg\u001b[0m\u001b[0;34m.\u001b[0m\u001b[0mreshape\u001b[0m\u001b[0;34m(\u001b[0m\u001b[0;36m128\u001b[0m\u001b[0;34m,\u001b[0m \u001b[0;36m128\u001b[0m\u001b[0;34m)\u001b[0m\u001b[0;34m)\u001b[0m\u001b[0;34m\u001b[0m\u001b[0;34m\u001b[0m\u001b[0m\n\u001b[0m\u001b[1;32m     11\u001b[0m \u001b[0mplt\u001b[0m\u001b[0;34m.\u001b[0m\u001b[0maxis\u001b[0m\u001b[0;34m(\u001b[0m\u001b[0;34m'off'\u001b[0m\u001b[0;34m)\u001b[0m\u001b[0;34m\u001b[0m\u001b[0;34m\u001b[0m\u001b[0m\n",
            "\u001b[0;31mValueError\u001b[0m: cannot reshape array of size 150528 into shape (128,128)"
          ]
        },
        {
          "output_type": "display_data",
          "data": {
            "text/plain": [
              "<Figure size 432x288 with 0 Axes>"
            ]
          },
          "metadata": {}
        }
      ]
    },
    {
      "cell_type": "code",
      "source": [
        "'''from skimage import io\n",
        "img = img.reshape(128, 128)\n",
        "mask = img < 87\n",
        "#img[mask] = 255\n",
        "io.imshow(img)'''"
      ],
      "metadata": {
        "colab": {
          "base_uri": "https://localhost:8080/",
          "height": 314
        },
        "id": "OxhtOuejKyXN",
        "outputId": "99868977-dad0-49a1-a39d-6f3b1e2a4f90"
      },
      "execution_count": 95,
      "outputs": [
        {
          "output_type": "execute_result",
          "data": {
            "text/plain": [
              "<matplotlib.image.AxesImage at 0x7fe99d650f40>"
            ]
          },
          "metadata": {},
          "execution_count": 95
        },
        {
          "output_type": "display_data",
          "data": {
            "text/plain": [
              "<Figure size 432x288 with 1 Axes>"
            ],
            "image/png": "[encoded data removed]"
          },
          "metadata": {
            "needs_background": "light"
          }
        }
      ]
    },
    {
      "cell_type": "code",
      "source": [
        "# Hacemos dos clusters con SKMEANS  (?) y así lo separamos mayoritariamente entre el fondo de la carta y el dibujo\n",
        "\n",
        "img = images_entrenamiento[235]\n",
        "\n",
        "img2 = img.reshape((-1, 3))\n",
        "img2 = np.float32(img2)\n",
        "\n",
        "criteria = (cv2.TERM_CRITERIA_EPS + cv2.TERM_CRITERIA_MAX_ITER, 10, 1.0)\n",
        "\n",
        "# Clusters\n",
        "k=2\n",
        "\n",
        "attempts = 10\n",
        "ret,label,center=cv2.kmeans(img2, k, None, criteria, attempts, cv2.KMEANS_PP_CENTERS)\n",
        "center = np.uint8(center)\n",
        "res = center[label.flatten()]\n",
        "res2 = res.reshape((img.shape))\n",
        "cv2.imwrite(\"aaaa.jpg\", res2)\n",
        "\n",
        "io.imshow(res2)"
      ],
      "metadata": {
        "colab": {
          "base_uri": "https://localhost:8080/",
          "height": 314
        },
        "id": "2ib97p7ZVJPt",
        "outputId": "b3d2c9cb-f1d6-4f06-aae6-f40b295d7512"
      },
      "execution_count": 163,
      "outputs": [
        {
          "output_type": "execute_result",
          "data": {
            "text/plain": [
              "<matplotlib.image.AxesImage at 0x7fe9945b7280>"
            ]
          },
          "metadata": {},
          "execution_count": 163
        },
        {
          "output_type": "display_data",
          "data": {
            "text/plain": [
              "<Figure size 432x288 with 1 Axes>"
            ],
            "image/png": "[encoded data removed]"
          },
          "metadata": {
            "needs_background": "light"
          }
        }
      ]
    },
    {
      "cell_type": "code",
      "source": [
        "#######################\n",
        "# PRUEBA GUARRA   #\n",
        "#######################\n",
        "\n",
        "# imgb = color.rgb2gray(img)\n",
        "\n",
        "\"\"\"\n",
        "mask = img < 87\n",
        "img[mask] = 255\n",
        "\n",
        "\n",
        "plt.figure()\n",
        "plt.imshow(imgb)\n",
        "plt.axis('off')\n",
        "\"\"\""
      ],
      "metadata": {
        "id": "j28nDhDgq-O4"
      },
      "execution_count": null,
      "outputs": []
    },
    {
      "cell_type": "markdown",
      "source": [
        "### Entrenamiento del modelo"
      ],
      "metadata": {
        "id": "mRj4lF9EqJh9"
      }
    },
    {
      "cell_type": "markdown",
      "source": [
        "## Otros"
      ],
      "metadata": {
        "id": "DVj_idNROpkP"
      }
    },
    {
      "cell_type": "markdown",
      "source": [
        "Ajustes básicos de imágenes (Escala de grises, rotar y recortar)\n",
        "\n",
        "https://www.youtube.com/watch?v=uDNqNv2N-pY&list=PLZsOBAyNTZwYHBIlu_PUO19M7aHMgwBJr&index=19\n",
        "\n",
        "Image segmentation\n",
        "\n",
        "https://www.youtube.com/watch?v=6CqRnx6Ic48&list=PLZsOBAyNTZwYHBIlu_PUO19M7aHMgwBJr&index=52"
      ],
      "metadata": {
        "id": "NVU3rst4Orku"
      }
    }
  ]
}