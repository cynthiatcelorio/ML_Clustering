{
  "cells": [
    {
      "cell_type": "markdown",
      "metadata": {
        "id": "view-in-github"
      },
      "source": [
        "<a href=\"https://colab.research.google.com/github/cynthiatcelorio/ML_Clustering/blob/main/dani.ipynb\" target=\"_parent\"><img src=\"https://colab.research.google.com/assets/colab-badge.svg\" alt=\"Open In Colab\"/></a>"
      ]
    },
    {
      "cell_type": "code",
      "execution_count": 1,
      "metadata": {
        "colab": {
          "base_uri": "https://localhost:8080/"
        },
        "id": "Sxi3tPWJcc9N",
        "outputId": "ae6636f7-035a-4407-9e1e-d17bdc68d1d2"
      },
      "outputs": [
        {
          "output_type": "stream",
          "name": "stdout",
          "text": [
            "Looking in indexes: https://pypi.org/simple, https://us-python.pkg.dev/colab-wheels/public/simple/\n",
            "Requirement already satisfied: clustimage in /usr/local/lib/python3.8/dist-packages (1.5.11)\n",
            "Requirement already satisfied: tqdm in /usr/local/lib/python3.8/dist-packages (from clustimage) (4.64.1)\n",
            "Requirement already satisfied: matplotlib in /usr/local/lib/python3.8/dist-packages (from clustimage) (3.2.2)\n",
            "Requirement already satisfied: pypickle in /usr/local/lib/python3.8/dist-packages (from clustimage) (1.1.0)\n",
            "Requirement already satisfied: scatterd>=1.1.2 in /usr/local/lib/python3.8/dist-packages (from clustimage) (1.2.1)\n",
            "Requirement already satisfied: umap-learn in /usr/local/lib/python3.8/dist-packages (from clustimage) (0.5.3)\n",
            "Requirement already satisfied: scikit-image in /usr/local/lib/python3.8/dist-packages (from clustimage) (0.18.3)\n",
            "Requirement already satisfied: clusteval in /usr/local/lib/python3.8/dist-packages (from clustimage) (2.1.4)\n",
            "Requirement already satisfied: colourmap in /usr/local/lib/python3.8/dist-packages (from clustimage) (1.1.10)\n",
            "Requirement already satisfied: distfit in /usr/local/lib/python3.8/dist-packages (from clustimage) (1.4.5)\n",
            "Requirement already satisfied: scipy in /usr/local/lib/python3.8/dist-packages (from clustimage) (1.7.3)\n",
            "Requirement already satisfied: scikit-learn in /usr/local/lib/python3.8/dist-packages (from clustimage) (1.0.2)\n",
            "Requirement already satisfied: pandas in /usr/local/lib/python3.8/dist-packages (from clustimage) (1.3.5)\n",
            "Requirement already satisfied: opencv-python in /usr/local/lib/python3.8/dist-packages (from clustimage) (4.6.0.66)\n",
            "Requirement already satisfied: requests in /usr/local/lib/python3.8/dist-packages (from clustimage) (2.23.0)\n",
            "Requirement already satisfied: pca in /usr/local/lib/python3.8/dist-packages (from clustimage) (1.8.5)\n",
            "Requirement already satisfied: ismember in /usr/local/lib/python3.8/dist-packages (from clustimage) (1.0.2)\n",
            "Requirement already satisfied: imagehash in /usr/local/lib/python3.8/dist-packages (from clustimage) (4.3.1)\n",
            "Requirement already satisfied: numpy in /usr/local/lib/python3.8/dist-packages (from clustimage) (1.21.6)\n",
            "Requirement already satisfied: seaborn in /usr/local/lib/python3.8/dist-packages (from scatterd>=1.1.2->clustimage) (0.11.2)\n",
            "Requirement already satisfied: wget in /usr/local/lib/python3.8/dist-packages (from clusteval->clustimage) (3.2)\n",
            "Requirement already satisfied: statsmodels in /usr/local/lib/python3.8/dist-packages (from distfit->clustimage) (0.12.2)\n",
            "Requirement already satisfied: pillow in /usr/local/lib/python3.8/dist-packages (from imagehash->clustimage) (7.1.2)\n",
            "Requirement already satisfied: PyWavelets in /usr/local/lib/python3.8/dist-packages (from imagehash->clustimage) (1.4.1)\n",
            "Requirement already satisfied: python-dateutil>=2.1 in /usr/local/lib/python3.8/dist-packages (from matplotlib->clustimage) (2.8.2)\n",
            "Requirement already satisfied: pyparsing!=2.0.4,!=2.1.2,!=2.1.6,>=2.0.1 in /usr/local/lib/python3.8/dist-packages (from matplotlib->clustimage) (3.0.9)\n",
            "Requirement already satisfied: cycler>=0.10 in /usr/local/lib/python3.8/dist-packages (from matplotlib->clustimage) (0.11.0)\n",
            "Requirement already satisfied: kiwisolver>=1.0.1 in /usr/local/lib/python3.8/dist-packages (from matplotlib->clustimage) (1.4.4)\n",
            "Requirement already satisfied: six>=1.5 in /usr/local/lib/python3.8/dist-packages (from python-dateutil>=2.1->matplotlib->clustimage) (1.15.0)\n",
            "Requirement already satisfied: pytz>=2017.3 in /usr/local/lib/python3.8/dist-packages (from pandas->clustimage) (2022.6)\n",
            "Requirement already satisfied: adjustText in /usr/local/lib/python3.8/dist-packages (from pca->clustimage) (0.7.3)\n",
            "Requirement already satisfied: urllib3!=1.25.0,!=1.25.1,<1.26,>=1.21.1 in /usr/local/lib/python3.8/dist-packages (from requests->clustimage) (1.24.3)\n",
            "Requirement already satisfied: certifi>=2017.4.17 in /usr/local/lib/python3.8/dist-packages (from requests->clustimage) (2022.9.24)\n",
            "Requirement already satisfied: chardet<4,>=3.0.2 in /usr/local/lib/python3.8/dist-packages (from requests->clustimage) (3.0.4)\n",
            "Requirement already satisfied: idna<3,>=2.5 in /usr/local/lib/python3.8/dist-packages (from requests->clustimage) (2.10)\n",
            "Requirement already satisfied: networkx>=2.0 in /usr/local/lib/python3.8/dist-packages (from scikit-image->clustimage) (2.8.8)\n",
            "Requirement already satisfied: imageio>=2.3.0 in /usr/local/lib/python3.8/dist-packages (from scikit-image->clustimage) (2.9.0)\n",
            "Requirement already satisfied: tifffile>=2019.7.26 in /usr/local/lib/python3.8/dist-packages (from scikit-image->clustimage) (2022.10.10)\n",
            "Requirement already satisfied: threadpoolctl>=2.0.0 in /usr/local/lib/python3.8/dist-packages (from scikit-learn->clustimage) (3.1.0)\n",
            "Requirement already satisfied: joblib>=0.11 in /usr/local/lib/python3.8/dist-packages (from scikit-learn->clustimage) (1.2.0)\n",
            "Requirement already satisfied: patsy>=0.5 in /usr/local/lib/python3.8/dist-packages (from statsmodels->distfit->clustimage) (0.5.3)\n",
            "Requirement already satisfied: pynndescent>=0.5 in /usr/local/lib/python3.8/dist-packages (from umap-learn->clustimage) (0.5.8)\n",
            "Requirement already satisfied: numba>=0.49 in /usr/local/lib/python3.8/dist-packages (from umap-learn->clustimage) (0.56.4)\n",
            "Requirement already satisfied: llvmlite<0.40,>=0.39.0dev0 in /usr/local/lib/python3.8/dist-packages (from numba>=0.49->umap-learn->clustimage) (0.39.1)\n",
            "Requirement already satisfied: setuptools in /usr/local/lib/python3.8/dist-packages (from numba>=0.49->umap-learn->clustimage) (57.4.0)\n",
            "Requirement already satisfied: importlib-metadata in /usr/local/lib/python3.8/dist-packages (from numba>=0.49->umap-learn->clustimage) (4.13.0)\n",
            "Requirement already satisfied: zipp>=0.5 in /usr/local/lib/python3.8/dist-packages (from importlib-metadata->numba>=0.49->umap-learn->clustimage) (3.11.0)\n"
          ]
        }
      ],
      "source": [
        "%pip install clustimage"
      ]
    },
    {
      "cell_type": "code",
      "execution_count": 22,
      "metadata": {
        "id": "r-T-IjRwxC2t"
      },
      "outputs": [],
      "source": [
        "# librerias\n",
        "from glob import glob\n",
        "import matplotlib.pyplot as plt\n",
        "from skimage import color\n",
        "from skimage.color import rgb2gray\n",
        "from skimage.io import imshow, imread\n",
        "from clustimage import Clustimage\n",
        "import numpy as np\n",
        "\n",
        "\n",
        "import cv2\n",
        "from natsort import natsorted \n",
        "from skimage import io"
      ]
    },
    {
      "cell_type": "code",
      "execution_count": 2,
      "metadata": {
        "colab": {
          "base_uri": "https://localhost:8080/"
        },
        "id": "IApPmOxexT3x",
        "outputId": "eba7e740-5405-483d-c514-d16327a4cfe1"
      },
      "outputs": [
        {
          "output_type": "stream",
          "name": "stdout",
          "text": [
            "fatal: destination path 'ML_Clustering_Data' already exists and is not an empty directory.\n"
          ]
        }
      ],
      "source": [
        "!git clone \"https://github.com/cynthiatcelorio/ML_Clustering_Data.git\"\n",
        "\n",
        "ruta_train = \"/content/ML_Clustering_Data/train\"\n",
        "ruta_test = \"/content/ML_Clustering_Data/test\""
      ]
    },
    {
      "cell_type": "code",
      "execution_count": 3,
      "metadata": {
        "id": "ougTFsdAxUQt"
      },
      "outputs": [],
      "source": [
        "# Creamos un array con las rutas de las difetentes imágenes ordenadas alfabéticamente\n",
        "\n",
        "train_images = glob('/content/ML_Clustering_Data/train/*')                \n",
        "train_images = natsorted(train_images)"
      ]
    },
    {
      "cell_type": "code",
      "execution_count": 4,
      "metadata": {
        "id": "qrExhbgQmm6O"
      },
      "outputs": [],
      "source": [
        "# Creamos un array para guardar los números que corresponden a las imágenes en orden alfabético\n",
        "import glob, os\n",
        "\n",
        "train_img_num = []\n",
        "\n",
        "for file in glob.glob('/content/ML_Clustering_Data/train/*.jpg'):\n",
        "    file = os.path.basename(file)\n",
        "    file = file[:-4]\n",
        "    train_img_num.append(file) \n",
        "\n",
        "train_img_num = natsorted(train_img_num)"
      ]
    },
    {
      "cell_type": "code",
      "execution_count": 17,
      "metadata": {
        "colab": {
          "base_uri": "https://localhost:8080/"
        },
        "id": "_CFrSr1Fx8-J",
        "outputId": "f72fbe4f-dba3-4eef-d387-f8c869575bec"
      },
      "outputs": [
        {
          "output_type": "stream",
          "name": "stdout",
          "text": [
            "/content/ML_Clustering_Data/train/ML_Clustering_Data\n",
            "8154\n"
          ]
        }
      ],
      "source": [
        "len(train_images)         # wtf me sobra una\n",
        "\n",
        "print(train_images[7889])\n",
        "print(train_img_num[7888])\n",
        "\n",
        "# Eso de ML_Clustering_Data revisarlo luego, puede dar problemas"
      ]
    },
    {
      "cell_type": "markdown",
      "metadata": {
        "id": "Ggrbroc51Y-Y"
      },
      "source": [
        "### Preprocesamiento de las imágenes"
      ]
    },
    {
      "cell_type": "markdown",
      "metadata": {
        "id": "yjOSDw4s1d61"
      },
      "source": [
        "Antes de extraer características de las imágenes, tenemos que llevar a cabo un preprocesamiento para poder comparar las imágenes en lo referente a color y valor."
      ]
    },
    {
      "cell_type": "code",
      "execution_count": 18,
      "metadata": {
        "id": "2ggPV3Hh2eqc"
      },
      "outputs": [],
      "source": [
        "import cv2\n",
        "\n",
        "# Cargar dataset\n",
        "images_entrenamiento = []\n",
        "\n",
        "for i in range(0, len(train_images)):\n",
        "    img = cv2.imread(train_images[i])\n",
        "    images_entrenamiento.append(img)"
      ]
    },
    {
      "cell_type": "markdown",
      "metadata": {
        "id": "Qc123bysuQnY"
      },
      "source": [
        "La librería Clustimage cuenta con una función *imread* que premite escalar las imagenes a una dimensión concreta y pasarlas a escala de grises asignando al parámetro *colorscale* el valor 0."
      ]
    },
    {
      "cell_type": "code",
      "execution_count": null,
      "metadata": {
        "colab": {
          "base_uri": "https://localhost:8080/",
          "height": 87
        },
        "id": "NYIt3rU32lH5",
        "outputId": "fc99c42e-c5cd-419a-d24f-b9970a93e250"
      },
      "outputs": [
        {
          "name": "stderr",
          "output_type": "stream",
          "text": [
            "[clustimage] >INFO> filepath is set to [/tmp/clustimage]\n",
            "[clustimage] >INFO> filepath is set to [/tmp/clustimage]\n",
            "[clustimage] >INFO> filepath is set to [/tmp/clustimage]\n"
          ]
        },
        {
          "data": {
            "application/vnd.google.colaboratory.intrinsic+json": {
              "type": "string"
            },
            "text/plain": [
              "\"\\nimg = cl.imread(train_images[1980], dim=(128, 128), colorscale=1, flatten=True)\\n\\nprint(img)\\n\\n\\n# proximo objetivo: plottear como 9 a la vez, mirar por algun lado\\nplt.figure()\\nplt.imshow(img.reshape(128,128,3))\\nplt.axis('off')\""
            ]
          },
          "execution_count": 91,
          "metadata": {},
          "output_type": "execute_result"
        }
      ],
      "source": [
        "# Inicializar\n",
        "'''cl = Clustimage()\n",
        "\n",
        "# Cargar dataset\n",
        "images_entrenamiento = []\n",
        "\n",
        "for i in range(0, len(train_images)):\n",
        "    img = cl.imread(train_images[i], dim=(128, 128), colorscale=0, flatten=True)\n",
        "    images_entrenamiento.append(img)\n",
        "\n",
        "\"\"\"\n",
        "img = cl.imread(train_images[1980], dim=(128, 128), colorscale=1, flatten=True)\n",
        "\n",
        "print(img)\n",
        "\n",
        "\n",
        "# proximo objetivo: plottear como 9 a la vez, mirar por algun lado\n",
        "plt.figure()\n",
        "plt.imshow(img.reshape(128,128,3))\n",
        "plt.axis('off')\"\"\""
      ]
    },
    {
      "cell_type": "code",
      "execution_count": null,
      "metadata": {
        "colab": {
          "base_uri": "https://localhost:8080/",
          "height": 252
        },
        "id": "P779g_gv4opP",
        "outputId": "caef4eaf-1aa0-4f99-9fc2-e82a9abe1d7d"
      },
      "outputs": [
        {
          "name": "stdout",
          "output_type": "stream",
          "text": [
            "7889\n"
          ]
        },
        {
          "ename": "ValueError",
          "evalue": "ignored",
          "output_type": "error",
          "traceback": [
            "\u001b[0;31m---------------------------------------------------------------------------\u001b[0m",
            "\u001b[0;31mValueError\u001b[0m                                Traceback (most recent call last)",
            "\u001b[0;32m<ipython-input-98-bbd51f4e8d80>\u001b[0m in \u001b[0;36m<module>\u001b[0;34m\u001b[0m\n\u001b[1;32m      8\u001b[0m \u001b[0;34m\u001b[0m\u001b[0m\n\u001b[1;32m      9\u001b[0m \u001b[0mplt\u001b[0m\u001b[0;34m.\u001b[0m\u001b[0mfigure\u001b[0m\u001b[0;34m(\u001b[0m\u001b[0;34m)\u001b[0m\u001b[0;34m\u001b[0m\u001b[0;34m\u001b[0m\u001b[0m\n\u001b[0;32m---> 10\u001b[0;31m \u001b[0mplt\u001b[0m\u001b[0;34m.\u001b[0m\u001b[0mimshow\u001b[0m\u001b[0;34m(\u001b[0m\u001b[0mimg\u001b[0m\u001b[0;34m.\u001b[0m\u001b[0mreshape\u001b[0m\u001b[0;34m(\u001b[0m\u001b[0;36m128\u001b[0m\u001b[0;34m,\u001b[0m \u001b[0;36m128\u001b[0m\u001b[0;34m)\u001b[0m\u001b[0;34m)\u001b[0m\u001b[0;34m\u001b[0m\u001b[0;34m\u001b[0m\u001b[0m\n\u001b[0m\u001b[1;32m     11\u001b[0m \u001b[0mplt\u001b[0m\u001b[0;34m.\u001b[0m\u001b[0maxis\u001b[0m\u001b[0;34m(\u001b[0m\u001b[0;34m'off'\u001b[0m\u001b[0;34m)\u001b[0m\u001b[0;34m\u001b[0m\u001b[0;34m\u001b[0m\u001b[0m\n",
            "\u001b[0;31mValueError\u001b[0m: cannot reshape array of size 150528 into shape (128,128)"
          ]
        },
        {
          "data": {
            "text/plain": [
              "<Figure size 432x288 with 0 Axes>"
            ]
          },
          "metadata": {},
          "output_type": "display_data"
        }
      ],
      "source": [
        "#IDEA: PASAR TODO A BLANCO Y NEGRO Y PASAR A BLANCO (255) LO QUE ESTE POR ENCIMA DE YOQUESE 102\n",
        "#ejemplo breve:\n",
        "'''\n",
        "print(len(images_entrenamiento))\n",
        "#5264\n",
        "\n",
        "# prueba para cualquier imagen pero funciona\n",
        "img = images_entrenamiento[555]\n",
        "\n",
        "plt.figure()\n",
        "plt.imshow(img.reshape(128, 128))\n",
        "plt.axis('off')\n",
        "\n",
        "'''"
      ]
    },
    {
      "cell_type": "code",
      "execution_count": null,
      "metadata": {
        "colab": {
          "base_uri": "https://localhost:8080/",
          "height": 314
        },
        "id": "OxhtOuejKyXN",
        "outputId": "99868977-dad0-49a1-a39d-6f3b1e2a4f90"
      },
      "outputs": [
        {
          "data": {
            "text/plain": [
              "<matplotlib.image.AxesImage at 0x7fe99d650f40>"
            ]
          },
          "execution_count": 95,
          "metadata": {},
          "output_type": "execute_result"
        },
        {
          "data": {
            "image/png": "[encoded data removed]",
            "text/plain": [
              "<Figure size 432x288 with 1 Axes>"
            ]
          },
          "metadata": {},
          "output_type": "display_data"
        }
      ],
      "source": [
        "'''\n",
        "img = img.reshape(128, 128)\n",
        "mask = img < 87\n",
        "#img[mask] = 255\n",
        "io.imshow(img)'''"
      ]
    },
    {
      "cell_type": "code",
      "execution_count": 27,
      "metadata": {
        "colab": {
          "base_uri": "https://localhost:8080/",
          "height": 314
        },
        "id": "2ib97p7ZVJPt",
        "outputId": "d14fa249-a4ed-4b5b-8d86-12fe285cc568"
      },
      "outputs": [
        {
          "output_type": "execute_result",
          "data": {
            "text/plain": [
              "<matplotlib.image.AxesImage at 0x7fcbf2e488e0>"
            ]
          },
          "metadata": {},
          "execution_count": 27
        },
        {
          "output_type": "display_data",
          "data": {
            "text/plain": [
              "<Figure size 432x288 with 1 Axes>"
            ],
            "image/png": "[encoded data removed]"
          },
          "metadata": {
            "needs_background": "light"
          }
        }
      ],
      "source": [
        "# Hacemos dos clusters con SKMEANS  (?) y así lo separamos mayoritariamente entre el fondo de la carta y el dibujo\n",
        "\n",
        "img = images_entrenamiento[41]\n",
        "\n",
        "img2 = img.reshape((-1, 3))\n",
        "img2 = np.float32(img2)\n",
        "\n",
        "criteria = (cv2.TERM_CRITERIA_EPS + cv2.TERM_CRITERIA_MAX_ITER, 10, 1.0)\n",
        "\n",
        "# Clusters\n",
        "k=2\n",
        "\n",
        "attempts = 10\n",
        "ret,label,center=cv2.kmeans(img2, k, None, criteria, attempts, cv2.KMEANS_PP_CENTERS)\n",
        "center = np.uint8(center)\n",
        "res = center[label.flatten()]\n",
        "res2 = res.reshape((img.shape))\n",
        "cv2.imwrite(\"aaaa.jpg\", res2)\n",
        "\n",
        "io.imshow(res2)"
      ]
    },
    {
      "cell_type": "markdown",
      "metadata": {
        "id": "mRj4lF9EqJh9"
      },
      "source": [
        "### Entrenamiento del modelo"
      ]
    },
    {
      "cell_type": "markdown",
      "metadata": {
        "id": "DVj_idNROpkP"
      },
      "source": [
        "## Otros"
      ]
    },
    {
      "cell_type": "markdown",
      "metadata": {
        "id": "NVU3rst4Orku"
      },
      "source": [
        "Ajustes básicos de imágenes (Escala de grises, rotar y recortar)\n",
        "\n",
        "https://www.youtube.com/watch?v=uDNqNv2N-pY&list=PLZsOBAyNTZwYHBIlu_PUO19M7aHMgwBJr&index=19\n",
        "\n",
        "Image segmentation\n",
        "\n",
        "https://www.youtube.com/watch?v=6CqRnx6Ic48&list=PLZsOBAyNTZwYHBIlu_PUO19M7aHMgwBJr&index=52"
      ]
    }
  ],
  "metadata": {
    "colab": {
      "provenance": []
    },
    "kernelspec": {
      "display_name": "Python 3",
      "name": "python3"
    },
    "language_info": {
      "name": "python"
    }
  },
  "nbformat": 4,
  "nbformat_minor": 0
}